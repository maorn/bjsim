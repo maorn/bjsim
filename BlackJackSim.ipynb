{
 "cells": [
  {
   "cell_type": "code",
   "execution_count": 3,
   "metadata": {},
   "outputs": [],
   "source": [
    "from IPython.display import display\n",
    "import pandas as pd\n",
    "from bjsim.common.cards import BjDeck, count_hand\n",
    "from bjsim.common.game import dealer_hand\n",
    "from bjsim.common.globals import WEB_POLICY\n",
    "import bjsim.stats.game_stats as game_stats\n",
    "pd.options.display.max_rows = 999\n",
    "pd.options.display.max_columns= 999\n",
    "pandas.options.display.float_format = '{:,.2f}'.format\n"
   ]
  },
  {
   "cell_type": "code",
   "execution_count": 4,
   "metadata": {},
   "outputs": [],
   "source": [
    "GAMES = 1000000"
   ]
  },
  {
   "cell_type": "code",
   "execution_count": 5,
   "metadata": {},
   "outputs": [],
   "source": [
    "\n",
    "dealer_count,dealer_per = game_stats.dealer_stats_for_given_hand(GAMES,6)\n",
    "dealer_end_hand = dealer_count.sum(axis=1)/GAMES"
   ]
  },
  {
   "cell_type": "code",
   "execution_count": 6,
   "metadata": {},
   "outputs": [
    {
     "name": "stdout",
     "output_type": "stream",
     "text": [
      "Dealer end hand given the starting hands in percents (1 is Ace)\n"
     ]
    },
    {
     "data": {
      "text/html": [
       "<div>\n",
       "<style scoped>\n",
       "    .dataframe tbody tr th:only-of-type {\n",
       "        vertical-align: middle;\n",
       "    }\n",
       "\n",
       "    .dataframe tbody tr th {\n",
       "        vertical-align: top;\n",
       "    }\n",
       "\n",
       "    .dataframe thead th {\n",
       "        text-align: right;\n",
       "    }\n",
       "</style>\n",
       "<table border=\"1\" class=\"dataframe\">\n",
       "  <thead>\n",
       "    <tr style=\"text-align: right;\">\n",
       "      <th>start hand</th>\n",
       "      <th>1</th>\n",
       "      <th>2</th>\n",
       "      <th>3</th>\n",
       "      <th>4</th>\n",
       "      <th>5</th>\n",
       "      <th>6</th>\n",
       "      <th>7</th>\n",
       "      <th>8</th>\n",
       "      <th>9</th>\n",
       "      <th>10</th>\n",
       "    </tr>\n",
       "    <tr>\n",
       "      <th>end count</th>\n",
       "      <th></th>\n",
       "      <th></th>\n",
       "      <th></th>\n",
       "      <th></th>\n",
       "      <th></th>\n",
       "      <th></th>\n",
       "      <th></th>\n",
       "      <th></th>\n",
       "      <th></th>\n",
       "      <th></th>\n",
       "    </tr>\n",
       "  </thead>\n",
       "  <tbody>\n",
       "    <tr>\n",
       "      <td>17</td>\n",
       "      <td>13.03</td>\n",
       "      <td>13.99</td>\n",
       "      <td>13.47</td>\n",
       "      <td>13.05</td>\n",
       "      <td>12.26</td>\n",
       "      <td>16.56</td>\n",
       "      <td>36.96</td>\n",
       "      <td>12.87</td>\n",
       "      <td>11.88</td>\n",
       "      <td>11.37</td>\n",
       "    </tr>\n",
       "    <tr>\n",
       "      <td>18</td>\n",
       "      <td>13.21</td>\n",
       "      <td>13.66</td>\n",
       "      <td>12.94</td>\n",
       "      <td>12.32</td>\n",
       "      <td>12.36</td>\n",
       "      <td>10.54</td>\n",
       "      <td>13.86</td>\n",
       "      <td>35.97</td>\n",
       "      <td>11.75</td>\n",
       "      <td>11.14</td>\n",
       "    </tr>\n",
       "    <tr>\n",
       "      <td>19</td>\n",
       "      <td>13.13</td>\n",
       "      <td>13.17</td>\n",
       "      <td>12.34</td>\n",
       "      <td>12.07</td>\n",
       "      <td>11.84</td>\n",
       "      <td>10.55</td>\n",
       "      <td>7.87</td>\n",
       "      <td>12.99</td>\n",
       "      <td>35.04</td>\n",
       "      <td>11.12</td>\n",
       "    </tr>\n",
       "    <tr>\n",
       "      <td>20</td>\n",
       "      <td>12.81</td>\n",
       "      <td>12.29</td>\n",
       "      <td>12.00</td>\n",
       "      <td>11.67</td>\n",
       "      <td>11.03</td>\n",
       "      <td>10.21</td>\n",
       "      <td>7.88</td>\n",
       "      <td>7.08</td>\n",
       "      <td>12.18</td>\n",
       "      <td>33.96</td>\n",
       "    </tr>\n",
       "    <tr>\n",
       "      <td>21</td>\n",
       "      <td>36.14</td>\n",
       "      <td>11.93</td>\n",
       "      <td>11.63</td>\n",
       "      <td>11.29</td>\n",
       "      <td>10.84</td>\n",
       "      <td>9.71</td>\n",
       "      <td>7.49</td>\n",
       "      <td>6.88</td>\n",
       "      <td>6.04</td>\n",
       "      <td>11.18</td>\n",
       "    </tr>\n",
       "    <tr>\n",
       "      <td>F</td>\n",
       "      <td>11.68</td>\n",
       "      <td>34.97</td>\n",
       "      <td>37.63</td>\n",
       "      <td>39.60</td>\n",
       "      <td>41.68</td>\n",
       "      <td>42.43</td>\n",
       "      <td>25.94</td>\n",
       "      <td>24.20</td>\n",
       "      <td>23.11</td>\n",
       "      <td>21.23</td>\n",
       "    </tr>\n",
       "  </tbody>\n",
       "</table>\n",
       "</div>"
      ],
      "text/plain": [
       "start hand     1     2     3     4     5     6     7     8     9    10\n",
       "end count                                                             \n",
       "17         13.03 13.99 13.47 13.05 12.26 16.56 36.96 12.87 11.88 11.37\n",
       "18         13.21 13.66 12.94 12.32 12.36 10.54 13.86 35.97 11.75 11.14\n",
       "19         13.13 13.17 12.34 12.07 11.84 10.55  7.87 12.99 35.04 11.12\n",
       "20         12.81 12.29 12.00 11.67 11.03 10.21  7.88  7.08 12.18 33.96\n",
       "21         36.14 11.93 11.63 11.29 10.84  9.71  7.49  6.88  6.04 11.18\n",
       "F          11.68 34.97 37.63 39.60 41.68 42.43 25.94 24.20 23.11 21.23"
      ]
     },
     "metadata": {},
     "output_type": "display_data"
    },
    {
     "name": "stdout",
     "output_type": "stream",
     "text": [
      "Dealer end hand on general\n"
     ]
    },
    {
     "data": {
      "text/plain": [
       "end count\n",
       "17   14.57\n",
       "18   13.95\n",
       "19   13.35\n",
       "20   17.91\n",
       "21   12.05\n",
       "F    28.17\n",
       "dtype: float64"
      ]
     },
     "metadata": {},
     "output_type": "display_data"
    }
   ],
   "source": [
    "print (\"Dealer end hand given the starting hands in percents (1 is Ace)\")\n",
    "display(dealer_per*100)\n",
    "print(\"Dealer end hand on general\")\n",
    "display(dealer_end_hand*100)"
   ]
  },
  {
   "cell_type": "code",
   "execution_count": null,
   "metadata": {},
   "outputs": [],
   "source": [
    "player_count,player_per = game_stats.player_stats(GAMES,6)\n",
    "player_end_hand = player_count.sum(axis=1)/GAMES"
   ]
  },
  {
   "cell_type": "code",
   "execution_count": null,
   "metadata": {},
   "outputs": [],
   "source": [
    "print (\"Player end hand given the starting hands in percents, removed known hands. (1 is Ace, remove opening hands above 17)\")\n",
    "player_per = player_per.drop(columns=['17', '18','19','20','21','10,10'],errors='ignore').fillna(0).sort_index().sort_index(axis=1)\n",
    "\n",
    "\n",
    "display(player_per*100)\n",
    "print(\"Player end hand on general\")\n",
    "display(player_end_hand *100)"
   ]
  },
  {
   "cell_type": "code",
   "execution_count": null,
   "metadata": {},
   "outputs": [],
   "source": [
    "win_rates_count,win_rates_per = game_stats.player_win_rates_for_start_hands(GAMES,6)"
   ]
  },
  {
   "cell_type": "code",
   "execution_count": null,
   "metadata": {},
   "outputs": [],
   "source": [
    "def print_hand_stats(player_hand,df):\n",
    "    print('player start hand: ',player_start_hand)\n",
    "    filter_col = [col for col in df if col.startswith(player_hand)]\n",
    "    new_df =df[filter_col] \n",
    "    display(new_df)    \n",
    "    print(\"player wining chances: \",new_df.loc['win',:].sum()/new_df.loc['total',:].sum()*100)\n",
    "    print(\"player losing chances: \",new_df.loc['lost',:].sum()/new_df.loc['total',:].sum()*100)\n",
    "    return filter_col\n",
    "   "
   ]
  },
  {
   "cell_type": "code",
   "execution_count": null,
   "metadata": {},
   "outputs": [],
   "source": [
    "player_start_hand = '9,9'\n",
    "print(\"win percent without actions: \",dealer_end_hand.loc[['17','F']].sum() )\n",
    "print(\"lose percent without actions: \",dealer_end_hand.loc[['19','20','21']].sum() )\n",
    "filter_col = print_hand_stats(player_start_hand,win_rates_count)\n",
    "display(win_rates_per.loc[:,filter_col])\n"
   ]
  },
  {
   "cell_type": "code",
   "execution_count": null,
   "metadata": {},
   "outputs": [],
   "source": []
  },
  {
   "cell_type": "code",
   "execution_count": null,
   "metadata": {},
   "outputs": [],
   "source": [
    "hand_99 = player_count['9,9']\n",
    "print(\"improvement: \",hand_99.loc[['19','20','21'],].sum()/hand_99.sum()*100)\n",
    "print(\"degradation: \",hand_99.loc[['12','13','14','15','16','17'],].sum()/hand_99.sum()*100)\n",
    "print(\"no change: \",hand_99.loc[['18'],].sum()/hand_99.sum()*100)\n",
    "print(STANDARD_LOGIC.loc['9,9',:])"
   ]
  },
  {
   "cell_type": "code",
   "execution_count": null,
   "metadata": {},
   "outputs": [],
   "source": [
    "player_start_hand = '7,7'\n",
    "filter_col = print_hand_stats(player_start_hand,win_rates_count)\n",
    "display(win_rates_per.loc[:,filter_col])"
   ]
  },
  {
   "cell_type": "code",
   "execution_count": null,
   "metadata": {},
   "outputs": [],
   "source": [
    "(player_count['8,8']/player_count['8,8'].sum()).sort_index()"
   ]
  },
  {
   "cell_type": "code",
   "execution_count": null,
   "metadata": {},
   "outputs": [],
   "source": [
    "WEB_POLICY.index"
   ]
  },
  {
   "cell_type": "code",
   "execution_count": null,
   "metadata": {},
   "outputs": [],
   "source": []
  }
 ],
 "metadata": {
  "kernelspec": {
   "display_name": "Python 3",
   "language": "python",
   "name": "python3"
  },
  "language_info": {
   "codemirror_mode": {
    "name": "ipython",
    "version": 3
   },
   "file_extension": ".py",
   "mimetype": "text/x-python",
   "name": "python",
   "nbconvert_exporter": "python",
   "pygments_lexer": "ipython3",
   "version": "3.7.4"
  }
 },
 "nbformat": 4,
 "nbformat_minor": 2
}
