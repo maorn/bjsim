{
 "cells": [
  {
   "cell_type": "code",
   "execution_count": 1,
   "metadata": {},
   "outputs": [],
   "source": [
    "from IPython.display import display\n",
    "import pandas as pd\n",
    "from bjsim.common.cards import BjDeck, count_hand\n",
    "from bjsim.common.game import dealer_hand\n",
    "from bjsim.common.globals import STANDARD_LOGIC\n",
    "import bjsim.stats.game_stats as game_stats\n",
    "pd.options.display.max_rows = 999\n",
    "pd.options.display.max_columns= 999\n",
    "pandas.options.display.float_format = '{:,.2f}'.format\n"
   ]
  },
  {
   "cell_type": "code",
   "execution_count": 2,
   "metadata": {},
   "outputs": [],
   "source": [
    "GAMES = 1000000"
   ]
  },
  {
   "cell_type": "code",
   "execution_count": 3,
   "metadata": {},
   "outputs": [],
   "source": [
    "\n",
    "dealer_count,dealer_per = game_stats.dealer_stats_for_given_hand(GAMES,6)\n",
    "dealer_end_hand = dealer_count.sum(axis=1)/GAMES"
   ]
  },
  {
   "cell_type": "code",
   "execution_count": 4,
   "metadata": {},
   "outputs": [
    {
     "name": "stdout",
     "output_type": "stream",
     "text": [
      "Dealer end hand given the starting hands in percents (1 is Ace)\n"
     ]
    },
    {
     "data": {
      "text/html": [
       "<div>\n",
       "<style scoped>\n",
       "    .dataframe tbody tr th:only-of-type {\n",
       "        vertical-align: middle;\n",
       "    }\n",
       "\n",
       "    .dataframe tbody tr th {\n",
       "        vertical-align: top;\n",
       "    }\n",
       "\n",
       "    .dataframe thead th {\n",
       "        text-align: right;\n",
       "    }\n",
       "</style>\n",
       "<table border=\"1\" class=\"dataframe\">\n",
       "  <thead>\n",
       "    <tr style=\"text-align: right;\">\n",
       "      <th>start hand</th>\n",
       "      <th>1</th>\n",
       "      <th>2</th>\n",
       "      <th>3</th>\n",
       "      <th>4</th>\n",
       "      <th>5</th>\n",
       "      <th>6</th>\n",
       "      <th>7</th>\n",
       "      <th>8</th>\n",
       "      <th>9</th>\n",
       "      <th>10</th>\n",
       "    </tr>\n",
       "    <tr>\n",
       "      <th>end count</th>\n",
       "      <th></th>\n",
       "      <th></th>\n",
       "      <th></th>\n",
       "      <th></th>\n",
       "      <th></th>\n",
       "      <th></th>\n",
       "      <th></th>\n",
       "      <th></th>\n",
       "      <th></th>\n",
       "      <th></th>\n",
       "    </tr>\n",
       "  </thead>\n",
       "  <tbody>\n",
       "    <tr>\n",
       "      <td>17</td>\n",
       "      <td>13.03</td>\n",
       "      <td>14.00</td>\n",
       "      <td>13.41</td>\n",
       "      <td>13.06</td>\n",
       "      <td>12.26</td>\n",
       "      <td>16.69</td>\n",
       "      <td>36.82</td>\n",
       "      <td>13.17</td>\n",
       "      <td>12.08</td>\n",
       "      <td>11.02</td>\n",
       "    </tr>\n",
       "    <tr>\n",
       "      <td>18</td>\n",
       "      <td>13.24</td>\n",
       "      <td>13.52</td>\n",
       "      <td>12.92</td>\n",
       "      <td>12.40</td>\n",
       "      <td>12.27</td>\n",
       "      <td>10.51</td>\n",
       "      <td>13.57</td>\n",
       "      <td>35.71</td>\n",
       "      <td>11.68</td>\n",
       "      <td>11.10</td>\n",
       "    </tr>\n",
       "    <tr>\n",
       "      <td>19</td>\n",
       "      <td>13.11</td>\n",
       "      <td>13.14</td>\n",
       "      <td>12.70</td>\n",
       "      <td>11.98</td>\n",
       "      <td>11.67</td>\n",
       "      <td>10.79</td>\n",
       "      <td>7.97</td>\n",
       "      <td>12.92</td>\n",
       "      <td>35.19</td>\n",
       "      <td>11.24</td>\n",
       "    </tr>\n",
       "    <tr>\n",
       "      <td>20</td>\n",
       "      <td>12.91</td>\n",
       "      <td>12.38</td>\n",
       "      <td>12.07</td>\n",
       "      <td>11.77</td>\n",
       "      <td>11.33</td>\n",
       "      <td>10.22</td>\n",
       "      <td>7.81</td>\n",
       "      <td>6.95</td>\n",
       "      <td>12.16</td>\n",
       "      <td>33.97</td>\n",
       "    </tr>\n",
       "    <tr>\n",
       "      <td>21</td>\n",
       "      <td>36.20</td>\n",
       "      <td>11.80</td>\n",
       "      <td>11.63</td>\n",
       "      <td>11.31</td>\n",
       "      <td>10.71</td>\n",
       "      <td>9.66</td>\n",
       "      <td>7.43</td>\n",
       "      <td>7.07</td>\n",
       "      <td>6.03</td>\n",
       "      <td>11.32</td>\n",
       "    </tr>\n",
       "    <tr>\n",
       "      <td>F</td>\n",
       "      <td>11.51</td>\n",
       "      <td>35.15</td>\n",
       "      <td>37.27</td>\n",
       "      <td>39.49</td>\n",
       "      <td>41.77</td>\n",
       "      <td>42.12</td>\n",
       "      <td>26.40</td>\n",
       "      <td>24.19</td>\n",
       "      <td>22.86</td>\n",
       "      <td>21.36</td>\n",
       "    </tr>\n",
       "  </tbody>\n",
       "</table>\n",
       "</div>"
      ],
      "text/plain": [
       "start hand     1     2     3     4     5     6     7     8     9    10\n",
       "end count                                                             \n",
       "17         13.03 14.00 13.41 13.06 12.26 16.69 36.82 13.17 12.08 11.02\n",
       "18         13.24 13.52 12.92 12.40 12.27 10.51 13.57 35.71 11.68 11.10\n",
       "19         13.11 13.14 12.70 11.98 11.67 10.79  7.97 12.92 35.19 11.24\n",
       "20         12.91 12.38 12.07 11.77 11.33 10.22  7.81  6.95 12.16 33.97\n",
       "21         36.20 11.80 11.63 11.31 10.71  9.66  7.43  7.07  6.03 11.32\n",
       "F          11.51 35.15 37.27 39.49 41.77 42.12 26.40 24.19 22.86 21.36"
      ]
     },
     "metadata": {},
     "output_type": "display_data"
    },
    {
     "name": "stdout",
     "output_type": "stream",
     "text": [
      "Dealer end hand on general\n"
     ]
    },
    {
     "data": {
      "text/plain": [
       "end count\n",
       "17   14.51\n",
       "18   13.87\n",
       "19   13.41\n",
       "20   17.95\n",
       "21   12.08\n",
       "F    28.17\n",
       "dtype: float64"
      ]
     },
     "metadata": {},
     "output_type": "display_data"
    }
   ],
   "source": [
    "print (\"Dealer end hand given the starting hands in percents (1 is Ace)\")\n",
    "display(dealer_per*100)\n",
    "print(\"Dealer end hand on general\")\n",
    "display(dealer_end_hand*100)"
   ]
  },
  {
   "cell_type": "code",
   "execution_count": null,
   "metadata": {},
   "outputs": [],
   "source": [
    "player_count,player_per = game_stats.player_stats(GAMES,6)\n",
    "player_end_hand = player_count.sum(axis=1)/GAMES"
   ]
  },
  {
   "cell_type": "code",
   "execution_count": null,
   "metadata": {},
   "outputs": [],
   "source": [
    "print (\"Player end hand given the starting hands in percents, removed known hands. (1 is Ace, remove opening hands above 17)\")\n",
    "player_per = player_per.drop(columns=['17', '18','19','20','21','10,10'],errors='ignore').fillna(0).sort_index().sort_index(axis=1)\n",
    "\n",
    "\n",
    "display(player_per*100)\n",
    "print(\"Player end hand on general\")\n",
    "display(player_end_hand *100)"
   ]
  },
  {
   "cell_type": "code",
   "execution_count": null,
   "metadata": {},
   "outputs": [],
   "source": [
    "win_rates_count,win_rates_per = game_stats.player_win_rates_for_start_hands(GAMES,6)"
   ]
  },
  {
   "cell_type": "code",
   "execution_count": null,
   "metadata": {},
   "outputs": [],
   "source": [
    "def print_hand_stats(player_hand,df):\n",
    "    print('player start hand: ',player_start_hand)\n",
    "    filter_col = [col for col in df if col.startswith(player_hand)]\n",
    "    new_df =df[filter_col] \n",
    "    display(new_df)    \n",
    "    print(\"player wining chances: \",new_df.loc['win',:].sum()/new_df.loc['total',:].sum()*100)\n",
    "    print(\"player losing chances: \",new_df.loc['lost',:].sum()/new_df.loc['total',:].sum()*100)\n",
    "    return filter_col\n",
    "   "
   ]
  },
  {
   "cell_type": "code",
   "execution_count": null,
   "metadata": {},
   "outputs": [],
   "source": [
    "player_start_hand = '9,9'\n",
    "print(\"win percent without actions: \",dealer_end_hand.loc[['17','F']].sum() )\n",
    "print(\"lose percent without actions: \",dealer_end_hand.loc[['19','20','21']].sum() )\n",
    "filter_col = print_hand_stats(player_start_hand,win_rates_count)\n",
    "display(win_rates_per.loc[:,filter_col])\n"
   ]
  },
  {
   "cell_type": "code",
   "execution_count": null,
   "metadata": {},
   "outputs": [],
   "source": []
  },
  {
   "cell_type": "code",
   "execution_count": null,
   "metadata": {},
   "outputs": [],
   "source": [
    "hand_99 = player_count['9,9']\n",
    "print(\"improvement: \",hand_99.loc[['19','20','21'],].sum()/hand_99.sum()*100)\n",
    "print(\"degradation: \",hand_99.loc[['12','13','14','15','16','17'],].sum()/hand_99.sum()*100)\n",
    "print(\"no change: \",hand_99.loc[['18'],].sum()/hand_99.sum()*100)\n",
    "print(STANDARD_LOGIC.loc['9,9',:])"
   ]
  },
  {
   "cell_type": "code",
   "execution_count": null,
   "metadata": {},
   "outputs": [],
   "source": [
    "player_start_hand = '7,7'\n",
    "filter_col = print_hand_stats(player_start_hand,win_rates_count)\n",
    "display(win_rates_per.loc[:,filter_col])"
   ]
  },
  {
   "cell_type": "code",
   "execution_count": null,
   "metadata": {},
   "outputs": [],
   "source": [
    "(player_count['8,8']/player_count['8,8'].sum()).sort_index()"
   ]
  },
  {
   "cell_type": "code",
   "execution_count": null,
   "metadata": {},
   "outputs": [],
   "source": [
    "STANDARD_LOGIC.index"
   ]
  },
  {
   "cell_type": "code",
   "execution_count": null,
   "metadata": {},
   "outputs": [],
   "source": []
  }
 ],
 "metadata": {
  "kernelspec": {
   "display_name": "Python 3",
   "language": "python",
   "name": "python3"
  },
  "language_info": {
   "codemirror_mode": {
    "name": "ipython",
    "version": 3
   },
   "file_extension": ".py",
   "mimetype": "text/x-python",
   "name": "python",
   "nbconvert_exporter": "python",
   "pygments_lexer": "ipython3",
   "version": "3.7.4"
  }
 },
 "nbformat": 4,
 "nbformat_minor": 2
}
